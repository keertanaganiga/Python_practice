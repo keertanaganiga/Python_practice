{
  "nbformat": 4,
  "nbformat_minor": 0,
  "metadata": {
    "colab": {
      "name": "Untitled13.ipynb",
      "provenance": [],
      "authorship_tag": "ABX9TyNnQ/5dix6niYnJOXkT/N8m",
      "include_colab_link": true
    },
    "kernelspec": {
      "name": "python3",
      "display_name": "Python 3"
    }
  },
  "cells": [
    {
      "cell_type": "markdown",
      "metadata": {
        "id": "view-in-github",
        "colab_type": "text"
      },
      "source": [
        "<a href=\"https://colab.research.google.com/github/keertanaganiga/Python_practice/blob/main/python_adding_list_using_lambda.ipynb\" target=\"_parent\"><img src=\"https://colab.research.google.com/assets/colab-badge.svg\" alt=\"Open In Colab\"/></a>"
      ]
    },
    {
      "cell_type": "code",
      "metadata": {
        "colab": {
          "base_uri": "https://localhost:8080/"
        },
        "id": "Y80c-z0xTowh",
        "outputId": "0bae381b-b243-49fb-ecc4-2b1c70ee7832"
      },
      "source": [
        "num1=[30,40,50]\r\n",
        "num2=[20,30,10]\r\n",
        "num3=[50,30,40]\r\n",
        "print(\"original list:\")\r\n",
        "print(num1)\r\n",
        "print(num2)\r\n",
        "print(num3)\r\n",
        "result=map(lambda x,y,z :x+y+z ,num1,num2,num3)\r\n",
        "print(\"after adding the list:\")\r\n",
        "print(list(result))"
      ],
      "execution_count": 2,
      "outputs": [
        {
          "output_type": "stream",
          "text": [
            "original list:\n",
            "[30, 40, 50]\n",
            "[20, 30, 10]\n",
            "[50, 30, 40]\n",
            "after adding the list:\n",
            "[100, 100, 100]\n"
          ],
          "name": "stdout"
        }
      ]
    }
  ]
}