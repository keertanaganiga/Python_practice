{
  "nbformat": 4,
  "nbformat_minor": 0,
  "metadata": {
    "colab": {
      "name": "k largest elements _GFG.ipynb",
      "provenance": [],
      "authorship_tag": "ABX9TyN91rONPkq1ckbd1KvKpyZH",
      "include_colab_link": true
    },
    "kernelspec": {
      "name": "python3",
      "display_name": "Python 3"
    },
    "language_info": {
      "name": "python"
    }
  },
  "cells": [
    {
      "cell_type": "markdown",
      "metadata": {
        "id": "view-in-github",
        "colab_type": "text"
      },
      "source": [
        "<a href=\"https://colab.research.google.com/github/keertanaganiga/Python_practice/blob/main/k_largest_elements__GFG.ipynb\" target=\"_parent\"><img src=\"https://colab.research.google.com/assets/colab-badge.svg\" alt=\"Open In Colab\"/></a>"
      ]
    },
    {
      "cell_type": "code",
      "metadata": {
        "colab": {
          "base_uri": "https://localhost:8080/"
        },
        "id": "qD5ZrpXw2ysb",
        "outputId": "3625ac6c-e165-4af1-b0c7-4a51de7e657b"
      },
      "source": [
        "\n",
        "'''N = 5, K = 2\n",
        "Arr[] = {12, 5, 787, 1, 23}\n",
        "Output: 787 23\n",
        "'''\n",
        "\n",
        "n=5\n",
        "k=2\n",
        "arr=[12,5,787,1,23]\n",
        "c=[]\n",
        "arr.sort()\n",
        "for i in range(k):\n",
        "  for j in arr:\n",
        "    c.append(arr[n-1])\n",
        "    break\n",
        "  n-=1\n",
        "print(*c)\n"
      ],
      "execution_count": 10,
      "outputs": [
        {
          "output_type": "stream",
          "text": [
            "787 23\n"
          ],
          "name": "stdout"
        }
      ]
    }
  ]
}